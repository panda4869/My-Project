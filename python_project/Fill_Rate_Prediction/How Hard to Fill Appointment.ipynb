{
 "cells": [
  {
   "cell_type": "code",
   "execution_count": 433,
   "metadata": {
    "collapsed": false
   },
   "outputs": [],
   "source": [
    "import pandas as pd\n",
    "import numpy as np\n",
    "import os\n",
    "import pickle\n",
    "from sklearn.model_selection import StratifiedKFold,train_test_split\n",
    "from sklearn.preprocessing import MinMaxScaler,StandardScaler,OneHotEncoder\n",
    "from xgboost.sklearn import XGBClassifier\n",
    "from sklearn.ensemble import RandomForestClassifier\n",
    "from sklearn import metrics\n",
    "from sklearn.linear_model import LogisticRegression\n",
    "from itertools import product\n",
    "from scipy.spatial import distance\n",
    "import math\n",
    "import operator\n",
    "import re"
   ]
  },
  {
   "cell_type": "code",
   "execution_count": 101,
   "metadata": {
    "collapsed": true
   },
   "outputs": [],
   "source": [
    "data_fill=pd.read_csv('fill_rate_data_train.csv')"
   ]
  },
  {
   "cell_type": "code",
   "execution_count": 102,
   "metadata": {
    "collapsed": false
   },
   "outputs": [
    {
     "data": {
      "text/plain": [
       "(284674, 12)"
      ]
     },
     "execution_count": 102,
     "metadata": {},
     "output_type": "execute_result"
    }
   ],
   "source": [
    "data_fill.shape"
   ]
  },
  {
   "cell_type": "code",
   "execution_count": 599,
   "metadata": {
    "collapsed": false
   },
   "outputs": [
    {
     "data": {
      "text/html": [
       "<div>\n",
       "<table border=\"1\" class=\"dataframe\">\n",
       "  <thead>\n",
       "    <tr style=\"text-align: right;\">\n",
       "      <th></th>\n",
       "      <th>unfilled</th>\n",
       "      <th>latitude</th>\n",
       "      <th>longitude</th>\n",
       "      <th>is_couple</th>\n",
       "      <th>city_id</th>\n",
       "      <th>city</th>\n",
       "      <th>gender_request</th>\n",
       "      <th>session_length</th>\n",
       "      <th>special_request</th>\n",
       "      <th>session_local_hour</th>\n",
       "      <th>session_local_day</th>\n",
       "      <th>interval_created_to_session_time</th>\n",
       "      <th>interval</th>\n",
       "      <th>session_period</th>\n",
       "    </tr>\n",
       "  </thead>\n",
       "  <tbody>\n",
       "    <tr>\n",
       "      <th>0</th>\n",
       "      <td>0</td>\n",
       "      <td>33.652760</td>\n",
       "      <td>-117.751945</td>\n",
       "      <td>0</td>\n",
       "      <td>5</td>\n",
       "      <td>Orange County</td>\n",
       "      <td>either</td>\n",
       "      <td>60</td>\n",
       "      <td>0</td>\n",
       "      <td>16</td>\n",
       "      <td>Friday</td>\n",
       "      <td>3170</td>\n",
       "      <td>144</td>\n",
       "      <td>Prime Session</td>\n",
       "    </tr>\n",
       "    <tr>\n",
       "      <th>1</th>\n",
       "      <td>0</td>\n",
       "      <td>34.256142</td>\n",
       "      <td>-118.474693</td>\n",
       "      <td>1</td>\n",
       "      <td>2</td>\n",
       "      <td>Los Angeles</td>\n",
       "      <td>female</td>\n",
       "      <td>60</td>\n",
       "      <td>0</td>\n",
       "      <td>10</td>\n",
       "      <td>Friday</td>\n",
       "      <td>1699</td>\n",
       "      <td>144</td>\n",
       "      <td>Early Session</td>\n",
       "    </tr>\n",
       "    <tr>\n",
       "      <th>2</th>\n",
       "      <td>0</td>\n",
       "      <td>30.268915</td>\n",
       "      <td>-97.740379</td>\n",
       "      <td>1</td>\n",
       "      <td>12</td>\n",
       "      <td>Austin</td>\n",
       "      <td>both</td>\n",
       "      <td>60</td>\n",
       "      <td>0</td>\n",
       "      <td>17</td>\n",
       "      <td>Thursday</td>\n",
       "      <td>3760</td>\n",
       "      <td>144</td>\n",
       "      <td>Prime Session</td>\n",
       "    </tr>\n",
       "    <tr>\n",
       "      <th>3</th>\n",
       "      <td>0</td>\n",
       "      <td>39.039063</td>\n",
       "      <td>-77.361710</td>\n",
       "      <td>0</td>\n",
       "      <td>14</td>\n",
       "      <td>Washington DC</td>\n",
       "      <td>female</td>\n",
       "      <td>60</td>\n",
       "      <td>0</td>\n",
       "      <td>9</td>\n",
       "      <td>Tuesday</td>\n",
       "      <td>2516</td>\n",
       "      <td>144</td>\n",
       "      <td>Early Session</td>\n",
       "    </tr>\n",
       "    <tr>\n",
       "      <th>4</th>\n",
       "      <td>0</td>\n",
       "      <td>38.897015</td>\n",
       "      <td>-77.022339</td>\n",
       "      <td>1</td>\n",
       "      <td>14</td>\n",
       "      <td>Washington DC</td>\n",
       "      <td>female</td>\n",
       "      <td>90</td>\n",
       "      <td>0</td>\n",
       "      <td>12</td>\n",
       "      <td>Monday</td>\n",
       "      <td>3445</td>\n",
       "      <td>144</td>\n",
       "      <td>Early Session</td>\n",
       "    </tr>\n",
       "  </tbody>\n",
       "</table>\n",
       "</div>"
      ],
      "text/plain": [
       "   unfilled   latitude   longitude  is_couple  city_id           city  \\\n",
       "0         0  33.652760 -117.751945          0        5  Orange County   \n",
       "1         0  34.256142 -118.474693          1        2    Los Angeles   \n",
       "2         0  30.268915  -97.740379          1       12         Austin   \n",
       "3         0  39.039063  -77.361710          0       14  Washington DC   \n",
       "4         0  38.897015  -77.022339          1       14  Washington DC   \n",
       "\n",
       "  gender_request  session_length  special_request  session_local_hour  \\\n",
       "0         either              60                0                  16   \n",
       "1         female              60                0                  10   \n",
       "2           both              60                0                  17   \n",
       "3         female              60                0                   9   \n",
       "4         female              90                0                  12   \n",
       "\n",
       "  session_local_day  interval_created_to_session_time  interval session_period  \n",
       "0            Friday                              3170       144  Prime Session  \n",
       "1            Friday                              1699       144  Early Session  \n",
       "2          Thursday                              3760       144  Prime Session  \n",
       "3           Tuesday                              2516       144  Early Session  \n",
       "4            Monday                              3445       144  Early Session  "
      ]
     },
     "execution_count": 599,
     "metadata": {},
     "output_type": "execute_result"
    }
   ],
   "source": [
    "data_fill.head()"
   ]
  },
  {
   "cell_type": "code",
   "execution_count": 104,
   "metadata": {
    "collapsed": false
   },
   "outputs": [],
   "source": [
    "data_fill=data_fill.dropna(axis=0,how='any')"
   ]
  },
  {
   "cell_type": "code",
   "execution_count": 105,
   "metadata": {
    "collapsed": false
   },
   "outputs": [
    {
     "data": {
      "text/plain": [
       "unfilled                            0\n",
       "latitude                            0\n",
       "longitude                           0\n",
       "is_couple                           0\n",
       "city_id                             0\n",
       "city                                0\n",
       "gender_request                      0\n",
       "session_length                      0\n",
       "special_request                     0\n",
       "session_local_hour                  0\n",
       "session_local_day                   0\n",
       "interval_created_to_session_time    0\n",
       "dtype: int64"
      ]
     },
     "execution_count": 105,
     "metadata": {},
     "output_type": "execute_result"
    }
   ],
   "source": [
    "data_fill.isnull().sum()"
   ]
  },
  {
   "cell_type": "code",
   "execution_count": 106,
   "metadata": {
    "collapsed": false
   },
   "outputs": [
    {
     "data": {
      "text/plain": [
       "unfilled                              int64\n",
       "latitude                            float64\n",
       "longitude                           float64\n",
       "is_couple                             int64\n",
       "city_id                               int64\n",
       "city                                 object\n",
       "gender_request                       object\n",
       "session_length                        int64\n",
       "special_request                       int64\n",
       "session_local_hour                    int64\n",
       "session_local_day                    object\n",
       "interval_created_to_session_time      int64\n",
       "dtype: object"
      ]
     },
     "execution_count": 106,
     "metadata": {},
     "output_type": "execute_result"
    }
   ],
   "source": [
    "data_fill.dtypes"
   ]
  },
  {
   "cell_type": "code",
   "execution_count": 374,
   "metadata": {
    "collapsed": false
   },
   "outputs": [
    {
     "data": {
      "text/plain": [
       "{1: 'San Francisco',\n",
       " 2: 'Los Angeles',\n",
       " 3: 'Phoenix/Scottsdale',\n",
       " 4: 'Miami',\n",
       " 5: 'Orange County',\n",
       " 9: 'Silicon Valley',\n",
       " 10: 'NYC',\n",
       " 12: 'Austin',\n",
       " 13: 'San Diego',\n",
       " 14: 'Washington DC',\n",
       " 15: 'Seattle',\n",
       " 16: 'Vancouver',\n",
       " 17: 'Dallas',\n",
       " 18: 'Chicago',\n",
       " 20: 'Boston',\n",
       " 21: 'Atlanta',\n",
       " 22: 'Philadelphia',\n",
       " 23: 'London',\n",
       " 24: 'Minneapolis',\n",
       " 25: 'Houston',\n",
       " 26: 'Toronto',\n",
       " 27: 'Indianapolis',\n",
       " 28: 'Denver',\n",
       " 29: 'Portland',\n",
       " 30: 'Northern New Jersey',\n",
       " 31: 'Las Vegas',\n",
       " 32: 'Inland Empire',\n",
       " 33: 'Memphis',\n",
       " 34: 'Orlando',\n",
       " 35: 'Honolulu',\n",
       " 36: 'Long Island/The Hamptons',\n",
       " 37: 'Oklahoma City',\n",
       " 38: 'Salt Lake City/Park City',\n",
       " 39: 'Charlotte',\n",
       " 40: 'St Louis',\n",
       " 41: 'Baltimore',\n",
       " 42: 'Cincinnati',\n",
       " 43: 'Norfolk/Virginia Beach',\n",
       " 44: 'Milwaukee',\n",
       " 45: 'San Antonio',\n",
       " 46: 'New Orleans',\n",
       " 48: 'Cleveland',\n",
       " 49: 'Louisville',\n",
       " 50: 'Santa Barbara',\n",
       " 51: 'Napa/Sonoma County',\n",
       " 52: 'Nashville',\n",
       " 53: 'Oakland/East Bay',\n",
       " 54: 'Sydney',\n",
       " 55: 'Columbus',\n",
       " 56: 'NYC - The Bronx',\n",
       " 57: 'NYC - Queens',\n",
       " 58: 'NYC - Staten Island',\n",
       " 59: 'Melbourne',\n",
       " 66: 'Detroit/Ann Arbor',\n",
       " 67: 'Jacksonville',\n",
       " 68: 'Palm Springs',\n",
       " 69: 'Temecula',\n",
       " 71: 'Sacramento',\n",
       " 79: 'NYC - Westchester County'}"
      ]
     },
     "execution_count": 374,
     "metadata": {},
     "output_type": "execute_result"
    }
   ],
   "source": [
    "\n",
    "     "
   ]
  },
  {
   "cell_type": "code",
   "execution_count": 107,
   "metadata": {
    "collapsed": false
   },
   "outputs": [
    {
     "data": {
      "text/html": [
       "<div>\n",
       "<table border=\"1\" class=\"dataframe\">\n",
       "  <thead>\n",
       "    <tr style=\"text-align: right;\">\n",
       "      <th></th>\n",
       "      <th>unfilled</th>\n",
       "      <th>latitude</th>\n",
       "      <th>longitude</th>\n",
       "      <th>is_couple</th>\n",
       "      <th>city_id</th>\n",
       "      <th>city</th>\n",
       "      <th>gender_request</th>\n",
       "      <th>session_length</th>\n",
       "      <th>special_request</th>\n",
       "      <th>session_local_hour</th>\n",
       "      <th>session_local_day</th>\n",
       "      <th>interval_created_to_session_time</th>\n",
       "    </tr>\n",
       "  </thead>\n",
       "  <tbody>\n",
       "    <tr>\n",
       "      <th>0</th>\n",
       "      <td>0</td>\n",
       "      <td>33.652760</td>\n",
       "      <td>-117.751945</td>\n",
       "      <td>0</td>\n",
       "      <td>5</td>\n",
       "      <td>Orange County</td>\n",
       "      <td>either</td>\n",
       "      <td>60</td>\n",
       "      <td>0</td>\n",
       "      <td>16</td>\n",
       "      <td>Friday</td>\n",
       "      <td>3170</td>\n",
       "    </tr>\n",
       "    <tr>\n",
       "      <th>1</th>\n",
       "      <td>0</td>\n",
       "      <td>34.256142</td>\n",
       "      <td>-118.474693</td>\n",
       "      <td>1</td>\n",
       "      <td>2</td>\n",
       "      <td>Los Angeles</td>\n",
       "      <td>female</td>\n",
       "      <td>60</td>\n",
       "      <td>0</td>\n",
       "      <td>10</td>\n",
       "      <td>Friday</td>\n",
       "      <td>1699</td>\n",
       "    </tr>\n",
       "    <tr>\n",
       "      <th>2</th>\n",
       "      <td>0</td>\n",
       "      <td>30.268915</td>\n",
       "      <td>-97.740379</td>\n",
       "      <td>1</td>\n",
       "      <td>12</td>\n",
       "      <td>Austin</td>\n",
       "      <td>both</td>\n",
       "      <td>60</td>\n",
       "      <td>0</td>\n",
       "      <td>17</td>\n",
       "      <td>Thursday</td>\n",
       "      <td>3760</td>\n",
       "    </tr>\n",
       "    <tr>\n",
       "      <th>3</th>\n",
       "      <td>0</td>\n",
       "      <td>39.039063</td>\n",
       "      <td>-77.361710</td>\n",
       "      <td>0</td>\n",
       "      <td>14</td>\n",
       "      <td>Washington DC</td>\n",
       "      <td>female</td>\n",
       "      <td>60</td>\n",
       "      <td>0</td>\n",
       "      <td>9</td>\n",
       "      <td>Tuesday</td>\n",
       "      <td>2516</td>\n",
       "    </tr>\n",
       "    <tr>\n",
       "      <th>4</th>\n",
       "      <td>0</td>\n",
       "      <td>38.897015</td>\n",
       "      <td>-77.022339</td>\n",
       "      <td>1</td>\n",
       "      <td>14</td>\n",
       "      <td>Washington DC</td>\n",
       "      <td>female</td>\n",
       "      <td>90</td>\n",
       "      <td>0</td>\n",
       "      <td>12</td>\n",
       "      <td>Monday</td>\n",
       "      <td>3445</td>\n",
       "    </tr>\n",
       "  </tbody>\n",
       "</table>\n",
       "</div>"
      ],
      "text/plain": [
       "   unfilled   latitude   longitude  is_couple  city_id           city  \\\n",
       "0         0  33.652760 -117.751945          0        5  Orange County   \n",
       "1         0  34.256142 -118.474693          1        2    Los Angeles   \n",
       "2         0  30.268915  -97.740379          1       12         Austin   \n",
       "3         0  39.039063  -77.361710          0       14  Washington DC   \n",
       "4         0  38.897015  -77.022339          1       14  Washington DC   \n",
       "\n",
       "  gender_request  session_length  special_request  session_local_hour  \\\n",
       "0         either              60                0                  16   \n",
       "1         female              60                0                  10   \n",
       "2           both              60                0                  17   \n",
       "3         female              60                0                   9   \n",
       "4         female              90                0                  12   \n",
       "\n",
       "  session_local_day  interval_created_to_session_time  \n",
       "0            Friday                              3170  \n",
       "1            Friday                              1699  \n",
       "2          Thursday                              3760  \n",
       "3           Tuesday                              2516  \n",
       "4            Monday                              3445  "
      ]
     },
     "execution_count": 107,
     "metadata": {},
     "output_type": "execute_result"
    }
   ],
   "source": [
    "data_fill.head()"
   ]
  },
  {
   "cell_type": "code",
   "execution_count": null,
   "metadata": {
    "collapsed": true
   },
   "outputs": [],
   "source": [
    "def geodata_generate(row,df):\n",
    "    latitude=list(df.latitude.quantile([0.25,0.5,0.75]).values)\n",
    "    longitude=list(df.longitude.quantile([0.25,0.5,0.75]).values)\n",
    "    #distance=[]\n",
    "    for n,(lat,long) in zip(range(9),list(product(latitude,longitude))):\n",
    "            #print (lat,long)\n",
    "            #print(row['latitude'],row['longitude'])\n",
    "            #row['geo_'+str(n)]=euclidean_dist(row['latitude'],row['longitude'],lat,long)\n",
    "            row['geo_'+str(n)]=distance.euclidean((row['latitude'],row['longitude']),(lat,long))\n",
    "    return row   "
   ]
  },
  {
   "cell_type": "code",
   "execution_count": 588,
   "metadata": {
    "collapsed": false
   },
   "outputs": [],
   "source": [
    "## transformation\n",
    "def dummie_transformation(df,cat_list):\n",
    "    df_dummies=pd.get_dummies(df,columns=cat_list,prefix=cat_list,drop_first=True)\n",
    "    #df_dummies.drop(cat_list,axis=1,inplace=True)\n",
    "    return df_dummies\n",
    "\n",
    "def cat_session_hour(x):\n",
    "    if 8<=x<16:\n",
    "        return 'Early Session'\n",
    "    elif 16<=x<20:\n",
    "        return 'Prime Session'\n",
    "    else:\n",
    "        return 'Late Session'\n",
    "\n",
    "    \n",
    "def truncate_interval(x):\n",
    "    if x >144:\n",
    "        return 144.0\n",
    "    elif x< 0 :\n",
    "        return 0.0\n",
    "    else:\n",
    "        return x \n",
    "    \n",
    "    \n",
    "def geodata_generate(x_train,x_test):\n",
    "    latitude=list(x_train.latitude.quantile([0.25,0.5,0.75]).values)\n",
    "    longitude=list(x_train.longitude.quantile([0.25,0.5,0.75]).values)\n",
    "    for n,(lat,long) in zip(range(9),list(product(latitude,longitude))):\n",
    "        x_train['geo_'+str(n)]=euclidean_dist(x_train.latitude,x_train.longitude,lat,long)\n",
    "        x_test['geo_'+str(n)]=euclidean_dist(x_test.latitude,x_test.longitude,lat,long)\n",
    "        \n",
    "    trainset=x_train.drop(['city_id','city','latitude','longitude'],axis=1)\n",
    "    testset=x_test.drop(['city_id','city','latitude','longitude'],axis=1)\n",
    "    return trainset,testset\n",
    "     \n",
    "\n",
    "\n",
    "def euclidean_dist(x1,y1,x2,y2):\n",
    "    return round(np.sqrt(pow((x1-x2),2)+pow((y1-y2),2)),6)\n",
    "    \n",
    "\n",
    "def scaler(x_train,x_test):\n",
    "    g=x_train.columns.to_series().groupby(x_train.dtypes).groups\n",
    "    df_type={k.name: v for k,v in g.items()}\n",
    "    scale_list=list(df_type['int64'])+list(df_type['float64'])\n",
    "    #print (scale_list)\n",
    "    sc=MinMaxScaler()\n",
    "    x_train_scaled=x_train.loc[:,[s for s in x_train.columns if s not in scale_list]]\n",
    "    x_test_scaled=x_test.loc[:,[s for s in x_test.columns if s not in scale_list]]\n",
    "    for column in scale_list:\n",
    "        x_train_scaled[column]=sc.fit_transform(x_train.loc[:,column])\n",
    "        x_test_scaled[column]=sc.transform(x_test.loc[:,column])\n",
    "    return x_train_scaled,x_test_scaled\n",
    "\n",
    "def math_transform(df):\n",
    "    g=df.columns.to_series().groupby(df.dtypes).groups\n",
    "    df_type={k.name: v for k,v in g.items()}\n",
    "    trans_list=list(df_type['int64'])+list(df_type['float64'])\n",
    "    trans_list=[s for s in trans_list if s\n",
    "                not in ['unfilled','is_couple','special_request']]\n",
    "    #print (trans_list)\n",
    "    df_trans=df.loc[:,[c for c in df.columns if c not in trans_list]]\n",
    "    adjust=1e-10\n",
    "    for column in trans_list: \n",
    "        df_trans[column+'_log']=np.log(df[column]+adjust)\n",
    "        df_trans[column+'_inv']=1/(df[column]+adjust)\n",
    "        df_trans[column+'_sqrt']=np.sqrt(df[column])\n",
    "        df_trans[column+'_pow']=pow(df[column],2)\n",
    "    return df_trans\n",
    "\n",
    "def auc_cross_validation(model,X_train,y_train,city_id,city_dict):\n",
    "    X_train=np.array(X_train)\n",
    "    y_train=np.array(y_train)\n",
    "    skf=StratifiedKFold(n_splits=5,random_state=123,shuffle=False)\n",
    "    score=[]\n",
    "    for train_ind,test_ind in skf.split(X_train,y_train):\n",
    "        train_data_x,test_data_x=X_train[train_ind],X_train[test_ind]\n",
    "        train_data_y,test_data_y=y_train[train_ind],y_train[test_ind]\n",
    "        \n",
    "        model.fit(train_data_x,train_data_y)\n",
    "        pred=model.predict_proba(test_data_x)[:,1]\n",
    "        score.append(metrics.roc_auc_score(test_data_y,pred))\n",
    "    #print (\"Model for %s is: %0.5f\"%(city_dict[city_id],np.mean(score)))\n",
    "    return np.mean(score)\n",
    "        \n",
    "    \n",
    "def stringfy(model):\n",
    "    model_name=model.__class__.__name__\n",
    "    return re.sub(r'[a-z]','',model_name)\n",
    "\n",
    "def save_city_model(model,city_id):\n",
    "    model_name=stringfy(model)\n",
    "    #file_name=model_name+'_'+city_dict[city_id]+'.pkl'\n",
    "    file_name=model_name+'_'+re.sub(r'/','_',city_dict[city_id])+'.pkl'\n",
    "    save_path=os.getcwd()+'/'+file_name\n",
    "    #print(save_path)\n",
    "    if os.path.exists(save_path):\n",
    "        os.remove(save_path)\n",
    "        print('Old model is removed')\n",
    "    try:\n",
    "        outfile=open(save_path,'wb')\n",
    "        pickle.dump(model,outfile)\n",
    "        #print(1)\n",
    "        outfile.close()\n",
    "        print('Saved the Model as ',file_name)\n",
    "    except:\n",
    "        print('Failed to Save the Model')\n",
    "\n",
    "def show_current_model(**path):\n",
    "    if path:\n",
    "        pass\n",
    "    else:\n",
    "        path=os.getcwd()\n",
    "    try:\n",
    "        for file in os.listdir(path):\n",
    "            if file.endswith('.pkl'):\n",
    "                print(file)\n",
    "    except:\n",
    "        print('Invalid Path')\n",
    "\n",
    "def load_model(city_id,**path):\n",
    "    if path:\n",
    "        pass\n",
    "    else:\n",
    "        path=os.getcwd()\n",
    "    #file_end='_'+city_dict[city_id]+'.pkl'\n",
    "    file_end='_'+re.sub(r'/','_',city_dict[city_id])+'.pkl'\n",
    "    #print(path)\n",
    "    #print(file_end)\n",
    "    try:\n",
    "        for file in os.listdir(path):\n",
    "            if file.endswith(file_end):\n",
    "                file_path=path+'/'+file\n",
    "                infile=open(file_path,'rb')\n",
    "                model=pickle.load(infile)\n",
    "                infile.close()\n",
    "                print ('%s Loaded'%file)\n",
    "                return model\n",
    "        if not model:\n",
    "            print('Model Not Exist.')\n",
    "    except:\n",
    "        print('Invalid Path')\n",
    "        \n",
    "def save_threshold(threshold_dict,**path):\n",
    "    if path:\n",
    "        save_path=path\n",
    "    else:\n",
    "        save_path=os.getcwd()+'/threshold.pkl'\n",
    "    if os.path.exists(save_path):\n",
    "        os.remove(save_path)\n",
    "        print('Old threshold file removed.')\n",
    "    try:    \n",
    "        outfile=open(save_path,'wb')\n",
    "        pickle.dump(threshold_dict,outfile)\n",
    "        outfile.close()\n",
    "        print('Successfully Saved Threshold.')\n",
    "    except:\n",
    "        print('Failed to Save Threshold.')\n",
    "        \n",
    "def load_threshold(city_id,**path):\n",
    "    if path:\n",
    "        save_path=path\n",
    "    else:\n",
    "        save_path=os.getcwd()+'/threshold.pkl'\n",
    "    try:\n",
    "        infile=open(save_path,'rb')\n",
    "        thres_dict=pickle.load(infile)\n",
    "        infile.close()\n",
    "        print ('Threshold for %s has been loaded.'%city_dict[city_id])\n",
    "        return thres_dict[city_id]\n",
    "        \n",
    "    except:\n",
    "        print('Failed to load threshold')\n",
    "        \n",
    "        \n",
    "    \n",
    "    \n",
    "    \n",
    "    \n",
    "    \n",
    "    \n",
    "    \n",
    "def best_threshold_cv(model,X_train,y_train):\n",
    "    X_train=np.array(X_train)\n",
    "    y_train=np.array(y_train)\n",
    "    skf=StratifiedKFold(n_splits=3,random_state=1234,shuffle=False)\n",
    "    best_f1_score=-1\n",
    "    best_recall=0\n",
    "    best_threshold=0\n",
    "    best_accuracy=0\n",
    "    \n",
    "    for threshold in np.arange(0.001,0.999,0.001):\n",
    "        f1_score=[]\n",
    "        accuracy_score=[]\n",
    "        recall_score=[]\n",
    "        for train_ind,test_ind in skf.split(X_train,y_train):\n",
    "            test_data_x=X_train[test_ind]\n",
    "            test_data_y=y_train[test_ind]\n",
    "            p1=np.where(model.predict_proba(test_data_x)[:,1]>=threshold,1,0)\n",
    "            f1_score.append(metrics.f1_score(test_data_y,p1))\n",
    "            recall_score.append(metrics.recall_score(test_data_y,p1))\n",
    "            accuracy_score.append(metrics.accuracy_score(test_data_y,p1))\n",
    "        current_f1_score=np.mean(f1_score)\n",
    "        current_recall_score=np.mean(recall_score)\n",
    "        current_accuracy_score=np.mean(accuracy_score)\n",
    "        if (current_f1_score>best_f1_score):\n",
    "            best_recall=current_recall_score\n",
    "            best_f1_score=current_f1_score\n",
    "            best_accuracy=current_accuracy_score\n",
    "            best_threshold=threshold\n",
    "    #print('Best Threshold:%.6f, Best Accuracy:%.6f, Best F1 Score:%.6f, Best Recall: %.6f'%(best_threshold,best_accuracy,best_f1_score,best_recall))\n",
    "    return best_threshold,best_accuracy,best_f1_score,best_recall\n",
    "    \n",
    "\n",
    "    "
   ]
  },
  {
   "cell_type": "code",
   "execution_count": 555,
   "metadata": {
    "collapsed": false
   },
   "outputs": [
    {
     "name": "stdout",
     "output_type": "stream",
     "text": [
      "Old threshold file removed.\n",
      "Successfully Saved Threshold.\n"
     ]
    }
   ],
   "source": [
    "save_threshold({1:'fuck'})"
   ]
  },
  {
   "cell_type": "code",
   "execution_count": 556,
   "metadata": {
    "collapsed": false
   },
   "outputs": [
    {
     "name": "stdout",
     "output_type": "stream",
     "text": [
      "Threshold for San Francisco has been loaded.\n"
     ]
    },
    {
     "data": {
      "text/plain": [
       "'fuck'"
      ]
     },
     "execution_count": 556,
     "metadata": {},
     "output_type": "execute_result"
    }
   ],
   "source": [
    "load_threshold(city_id=1)"
   ]
  },
  {
   "cell_type": "code",
   "execution_count": 422,
   "metadata": {
    "collapsed": false
   },
   "outputs": [
    {
     "name": "stdout",
     "output_type": "stream",
     "text": [
      "Model for San Francisco is: 0.74358\n"
     ]
    }
   ],
   "source": [
    "a_dict=dict()\n",
    "a_dict[stringfy(clf)]=auc_cross_validation(LogisticRegression(),X_train_scaled,y_train,1,city_dict)"
   ]
  },
  {
   "cell_type": "code",
   "execution_count": 432,
   "metadata": {
    "collapsed": false
   },
   "outputs": [
    {
     "data": {
      "text/plain": [
       "3"
      ]
     },
     "execution_count": 432,
     "metadata": {},
     "output_type": "execute_result"
    }
   ],
   "source": [
    "a={'a':1,'b':2,'c':3}\n",
    "a.get(sorted(a.items(),key=operator.itemgetter(1),reverse=True)[0][0],None)"
   ]
  },
  {
   "cell_type": "code",
   "execution_count": 436,
   "metadata": {
    "collapsed": true
   },
   "outputs": [],
   "source": [
    "model_list=[LogisticRegression(),XGBClassifier()]\n",
    "a=dict(zip([stringfy(n) for n in model_list ],model_list))"
   ]
  },
  {
   "cell_type": "code",
   "execution_count": 438,
   "metadata": {
    "collapsed": false
   },
   "outputs": [
    {
     "data": {
      "text/plain": [
       "LogisticRegression(C=1.0, class_weight=None, dual=False, fit_intercept=True,\n",
       "          intercept_scaling=1, max_iter=100, multi_class='ovr', n_jobs=1,\n",
       "          penalty='l2', random_state=None, solver='liblinear', tol=0.0001,\n",
       "          verbose=0, warm_start=False)"
      ]
     },
     "execution_count": 438,
     "metadata": {},
     "output_type": "execute_result"
    }
   ],
   "source": [
    "a.get('LR')"
   ]
  },
  {
   "cell_type": "code",
   "execution_count": null,
   "metadata": {
    "collapsed": true
   },
   "outputs": [],
   "source": [
    "data_fill['interval']=data_fill.interval_created_to_session_time.apply(truncate_interval)\n",
    "data_fill['session_period']=data_fill.session_local_hour.apply(cat_session_hour)\n",
    "\n",
    "##cat list\n",
    "cat_list=['session_length','session_local_day','gender_request','session_period']\n",
    "data_fill_dummies=dummie_transformation(df=data_fill,cat_list=cat_list)\n",
    "## drop list\n",
    "drop_list=['interval_created_to_session_time','session_local_hour']\n",
    "data_fill_dummies.drop(drop_list,axis=1,inplace=True)"
   ]
  },
  {
   "cell_type": "code",
   "execution_count": 320,
   "metadata": {
    "collapsed": false
   },
   "outputs": [
    {
     "data": {
      "text/html": [
       "<div>\n",
       "<table border=\"1\" class=\"dataframe\">\n",
       "  <thead>\n",
       "    <tr style=\"text-align: right;\">\n",
       "      <th></th>\n",
       "      <th>unfilled</th>\n",
       "      <th>is_couple</th>\n",
       "      <th>special_request</th>\n",
       "      <th>interval</th>\n",
       "      <th>session_length_90</th>\n",
       "      <th>session_length_120</th>\n",
       "      <th>session_length_150</th>\n",
       "      <th>session_local_day_Monday</th>\n",
       "      <th>session_local_day_Saturday</th>\n",
       "      <th>session_local_day_Sunday</th>\n",
       "      <th>...</th>\n",
       "      <th>session_period_Prime Session</th>\n",
       "      <th>geo_0</th>\n",
       "      <th>geo_1</th>\n",
       "      <th>geo_2</th>\n",
       "      <th>geo_3</th>\n",
       "      <th>geo_4</th>\n",
       "      <th>geo_5</th>\n",
       "      <th>geo_6</th>\n",
       "      <th>geo_7</th>\n",
       "      <th>geo_8</th>\n",
       "    </tr>\n",
       "  </thead>\n",
       "  <tbody>\n",
       "    <tr>\n",
       "      <th>13</th>\n",
       "      <td>1</td>\n",
       "      <td>0</td>\n",
       "      <td>0</td>\n",
       "      <td>144</td>\n",
       "      <td>1</td>\n",
       "      <td>0</td>\n",
       "      <td>0</td>\n",
       "      <td>0</td>\n",
       "      <td>1</td>\n",
       "      <td>0</td>\n",
       "      <td>...</td>\n",
       "      <td>1</td>\n",
       "      <td>0.028166</td>\n",
       "      <td>0.039177</td>\n",
       "      <td>0.053501</td>\n",
       "      <td>0.015921</td>\n",
       "      <td>0.031544</td>\n",
       "      <td>0.048193</td>\n",
       "      <td>0.015184</td>\n",
       "      <td>0.031179</td>\n",
       "      <td>0.047955</td>\n",
       "    </tr>\n",
       "    <tr>\n",
       "      <th>15</th>\n",
       "      <td>0</td>\n",
       "      <td>0</td>\n",
       "      <td>0</td>\n",
       "      <td>144</td>\n",
       "      <td>0</td>\n",
       "      <td>0</td>\n",
       "      <td>0</td>\n",
       "      <td>0</td>\n",
       "      <td>0</td>\n",
       "      <td>0</td>\n",
       "      <td>...</td>\n",
       "      <td>0</td>\n",
       "      <td>0.178456</td>\n",
       "      <td>0.163307</td>\n",
       "      <td>0.148173</td>\n",
       "      <td>0.172505</td>\n",
       "      <td>0.156783</td>\n",
       "      <td>0.140950</td>\n",
       "      <td>0.168783</td>\n",
       "      <td>0.152677</td>\n",
       "      <td>0.136368</td>\n",
       "    </tr>\n",
       "    <tr>\n",
       "      <th>20</th>\n",
       "      <td>1</td>\n",
       "      <td>1</td>\n",
       "      <td>0</td>\n",
       "      <td>144</td>\n",
       "      <td>0</td>\n",
       "      <td>0</td>\n",
       "      <td>0</td>\n",
       "      <td>0</td>\n",
       "      <td>0</td>\n",
       "      <td>0</td>\n",
       "      <td>...</td>\n",
       "      <td>1</td>\n",
       "      <td>0.049524</td>\n",
       "      <td>0.034364</td>\n",
       "      <td>0.021293</td>\n",
       "      <td>0.046547</td>\n",
       "      <td>0.029915</td>\n",
       "      <td>0.012938</td>\n",
       "      <td>0.048458</td>\n",
       "      <td>0.032810</td>\n",
       "      <td>0.018681</td>\n",
       "    </tr>\n",
       "    <tr>\n",
       "      <th>32</th>\n",
       "      <td>0</td>\n",
       "      <td>0</td>\n",
       "      <td>0</td>\n",
       "      <td>144</td>\n",
       "      <td>1</td>\n",
       "      <td>0</td>\n",
       "      <td>0</td>\n",
       "      <td>0</td>\n",
       "      <td>0</td>\n",
       "      <td>0</td>\n",
       "      <td>...</td>\n",
       "      <td>1</td>\n",
       "      <td>0.067582</td>\n",
       "      <td>0.083924</td>\n",
       "      <td>0.100703</td>\n",
       "      <td>0.072950</td>\n",
       "      <td>0.088304</td>\n",
       "      <td>0.104381</td>\n",
       "      <td>0.079633</td>\n",
       "      <td>0.093901</td>\n",
       "      <td>0.109157</td>\n",
       "    </tr>\n",
       "    <tr>\n",
       "      <th>34</th>\n",
       "      <td>0</td>\n",
       "      <td>1</td>\n",
       "      <td>0</td>\n",
       "      <td>144</td>\n",
       "      <td>1</td>\n",
       "      <td>0</td>\n",
       "      <td>0</td>\n",
       "      <td>0</td>\n",
       "      <td>0</td>\n",
       "      <td>0</td>\n",
       "      <td>...</td>\n",
       "      <td>0</td>\n",
       "      <td>0.042007</td>\n",
       "      <td>0.046859</td>\n",
       "      <td>0.056625</td>\n",
       "      <td>0.025349</td>\n",
       "      <td>0.032768</td>\n",
       "      <td>0.045656</td>\n",
       "      <td>0.012275</td>\n",
       "      <td>0.024122</td>\n",
       "      <td>0.039907</td>\n",
       "    </tr>\n",
       "  </tbody>\n",
       "</table>\n",
       "<p>5 rows × 27 columns</p>\n",
       "</div>"
      ],
      "text/plain": [
       "    unfilled  is_couple  special_request  interval  session_length_90  \\\n",
       "13         1          0                0       144                  1   \n",
       "15         0          0                0       144                  0   \n",
       "20         1          1                0       144                  0   \n",
       "32         0          0                0       144                  1   \n",
       "34         0          1                0       144                  1   \n",
       "\n",
       "    session_length_120  session_length_150  session_local_day_Monday  \\\n",
       "13                   0                   0                         0   \n",
       "15                   0                   0                         0   \n",
       "20                   0                   0                         0   \n",
       "32                   0                   0                         0   \n",
       "34                   0                   0                         0   \n",
       "\n",
       "    session_local_day_Saturday  session_local_day_Sunday    ...     \\\n",
       "13                           1                         0    ...      \n",
       "15                           0                         0    ...      \n",
       "20                           0                         0    ...      \n",
       "32                           0                         0    ...      \n",
       "34                           0                         0    ...      \n",
       "\n",
       "    session_period_Prime Session     geo_0     geo_1     geo_2     geo_3  \\\n",
       "13                             1  0.028166  0.039177  0.053501  0.015921   \n",
       "15                             0  0.178456  0.163307  0.148173  0.172505   \n",
       "20                             1  0.049524  0.034364  0.021293  0.046547   \n",
       "32                             1  0.067582  0.083924  0.100703  0.072950   \n",
       "34                             0  0.042007  0.046859  0.056625  0.025349   \n",
       "\n",
       "       geo_4     geo_5     geo_6     geo_7     geo_8  \n",
       "13  0.031544  0.048193  0.015184  0.031179  0.047955  \n",
       "15  0.156783  0.140950  0.168783  0.152677  0.136368  \n",
       "20  0.029915  0.012938  0.048458  0.032810  0.018681  \n",
       "32  0.088304  0.104381  0.079633  0.093901  0.109157  \n",
       "34  0.032768  0.045656  0.012275  0.024122  0.039907  \n",
       "\n",
       "[5 rows x 27 columns]"
      ]
     },
     "execution_count": 320,
     "metadata": {},
     "output_type": "execute_result"
    }
   ],
   "source": [
    "data_fill_dummies_add_geo.head()"
   ]
  },
  {
   "cell_type": "code",
   "execution_count": 598,
   "metadata": {
    "collapsed": false
   },
   "outputs": [
    {
     "name": "stdout",
     "output_type": "stream",
     "text": [
      "Threshold for San Francisco has been loaded.\n"
     ]
    },
    {
     "data": {
      "text/plain": [
       "{'best_accuracy': 0.82255061095393744,\n",
       " 'best_f1_score': 0.45224855975289668,\n",
       " 'best_recall': 0.60398751417902419,\n",
       " 'best_threshold': 0.17899999999999999}"
      ]
     },
     "execution_count": 598,
     "metadata": {},
     "output_type": "execute_result"
    }
   ],
   "source": [
    "load_threshold(1)"
   ]
  },
  {
   "cell_type": "code",
   "execution_count": 595,
   "metadata": {
    "collapsed": false
   },
   "outputs": [
    {
     "name": "stdout",
     "output_type": "stream",
     "text": [
      "Best Model for San Francisco:  XGBC | Best Auc: 0.773629913544\n",
      "Old model is removed\n",
      "Saved the Model as  XGBC_San Francisco.pkl\n",
      "\n",
      "        ###############################\n",
      "              Training Finished\n",
      "        ###############################\n",
      "        \n",
      "        \n",
      "Old threshold file removed.\n",
      "Successfully Saved Threshold.\n"
     ]
    }
   ],
   "source": [
    "import warnings\n",
    "warnings.filterwarnings(\"ignore\")\n",
    "\n",
    "city_dict=dict(list(set(zip(data_fill.city_id,data_fill.city))))\n",
    "city_list=list(city_dict.keys())[:1]\n",
    "model_list=[LogisticRegression(),XGBClassifier()]\n",
    "model_list_abb=dict(zip([stringfy(n) for n in model_list ],model_list))\n",
    "failed_city=[]\n",
    "threshold_dict=dict()\n",
    "n=0\n",
    "#data_fill_dummies_addgeo=\n",
    "for city_id in city_list:\n",
    "    #data_fill_dummies_add_geo=geodata_generate(data_fill_dummies[data_fill_dummies.city_id==city_id])\n",
    "    #data_fill_dummies_add_geo=math_transform(data_fill_dummies_add_geo)\n",
    "    data_fill_dummies_city=data_fill_dummies[data_fill_dummies.city_id==city_id]\n",
    "    predictors=[s for s in data_fill_dummies_city if s!='unfilled']\n",
    "    X_Train=data_fill_dummies_city.loc[:,predictors]\n",
    "    y_Train=data_fill_dummies_city.loc[:,'unfilled']\n",
    "    X_train,X_test,y_train,y_test=train_test_split(X_Train,y_Train,test_size=0.2,random_state=123)\n",
    "    X_train_add_geo,X_test_add_geo=geodata_generate(X_train,X_test)\n",
    "    X_train_add_geo_trans=math_transform(X_train_add_geo)\n",
    "    X_test_add_geo_trans=math_transform(X_test_add_geo)\n",
    "    X_train_scaled,X_test_scaled=scaler(X_train_add_geo_trans,X_test_add_geo_trans)   \n",
    "    auc_dict=dict()\n",
    "    try:\n",
    "        for model in model_list:\n",
    "            auc_dict[stringfy(model)]=auc_cross_validation(model,X_train_scaled,y_train,city_id,city_dict)\n",
    "            \n",
    "        print ('Best Model for %s: '%city_dict.get(city_id),sorted(auc_dict.items(),key=operator.itemgetter(1),reverse=True)[0][0],'| Best Auc:',sorted(auc_dict.items(),key=operator.itemgetter(1),reverse=True)[0][1] )\n",
    "        best_model=model_list_abb.get(sorted(auc_dict.items(),key=operator.itemgetter(1),reverse=True)[0][0],None)\n",
    "        best_model.fit(np.array(X_train_scaled),np.array(y_train))\n",
    "        best_threshold,best_accuracy,best_f1_score,best_recall=best_threshold_cv(best_model,X_train_scaled,y_train)\n",
    "        threshold_dict[city_id]={'best_threshold':best_threshold,'best_accuracy':best_accuracy,'best_f1_score':best_f1_score,'best_recall':best_recall}\n",
    "        save_city_model(best_model,city_id)\n",
    "    except:\n",
    "            print('Failed to build model for %s Sample size too small.'%city_dict[city_id])\n",
    "            failed_city.append(city_dict[city_id])\n",
    "    \n",
    "\n",
    "    n+=1\n",
    "    if n==len(city_list):\n",
    "        \n",
    "        print('''\n",
    "        ###############################\n",
    "              Training Finished\n",
    "        ###############################\n",
    "        \n",
    "        ''')\n",
    "        save_threshold(threshold_dict)\n",
    "    \n"
   ]
  },
  {
   "cell_type": "code",
   "execution_count": 564,
   "metadata": {
    "collapsed": false
   },
   "outputs": [],
   "source": [
    "best_threshold,best_accuracy,best_f1_score,best_recall=best_threshold_cv(best_model,X_train_scaled,y_train)"
   ]
  },
  {
   "cell_type": "code",
   "execution_count": 569,
   "metadata": {
    "collapsed": false
   },
   "outputs": [],
   "source": [
    "a={}\n",
    "a[1]={'best_threshold':best_threshold,'best_accuracy':best_accuracy,'best_f1_score':best_f1_score,'best_recall':best_recall}"
   ]
  },
  {
   "cell_type": "code",
   "execution_count": 578,
   "metadata": {
    "collapsed": false
   },
   "outputs": [
    {
     "name": "stdout",
     "output_type": "stream",
     "text": [
      "Threshold for Los Angeles has been loaded.\n"
     ]
    },
    {
     "data": {
      "text/plain": [
       "{'best_accuracy': 0.88197681070642153,\n",
       " 'best_f1_score': 0.25399614732500958,\n",
       " 'best_recall': 0.36181229773462781,\n",
       " 'best_threshold': 0.106}"
      ]
     },
     "execution_count": 578,
     "metadata": {},
     "output_type": "execute_result"
    }
   ],
   "source": [
    "load_threshold(2)"
   ]
  },
  {
   "cell_type": "code",
   "execution_count": 533,
   "metadata": {
    "collapsed": false
   },
   "outputs": [
    {
     "data": {
      "text/plain": [
       "['Temecula']"
      ]
     },
     "execution_count": 533,
     "metadata": {},
     "output_type": "execute_result"
    }
   ],
   "source": [
    "failed_city"
   ]
  },
  {
   "cell_type": "code",
   "execution_count": 361,
   "metadata": {
    "collapsed": false
   },
   "outputs": [
    {
     "data": {
      "text/plain": [
       "0.7518563129510667"
      ]
     },
     "execution_count": 361,
     "metadata": {},
     "output_type": "execute_result"
    }
   ],
   "source": [
    "clf=LogisticRegression()\n",
    "clf.fit(X_train_scaled,y_train)\n",
    "pred=clf.predict_proba(X_test_scaled)[:,1]\n",
    "metrics.roc_auc_score(y_test,pred)"
   ]
  },
  {
   "cell_type": "code",
   "execution_count": 375,
   "metadata": {
    "collapsed": false
   },
   "outputs": [],
   "source": []
  },
  {
   "cell_type": "code",
   "execution_count": 348,
   "metadata": {
    "collapsed": false
   },
   "outputs": [
    {
     "data": {
      "text/html": [
       "<div>\n",
       "<table border=\"1\" class=\"dataframe\">\n",
       "  <thead>\n",
       "    <tr style=\"text-align: right;\">\n",
       "      <th></th>\n",
       "      <th>session_length_90</th>\n",
       "      <th>session_length_120</th>\n",
       "      <th>session_length_150</th>\n",
       "      <th>session_local_day_Monday</th>\n",
       "      <th>session_local_day_Saturday</th>\n",
       "      <th>session_local_day_Sunday</th>\n",
       "      <th>session_local_day_Thursday</th>\n",
       "      <th>session_local_day_Tuesday</th>\n",
       "      <th>session_local_day_Wednesday</th>\n",
       "      <th>gender_request_either</th>\n",
       "      <th>...</th>\n",
       "      <th>geo_6_sqrt</th>\n",
       "      <th>geo_6_sin</th>\n",
       "      <th>geo_7_log</th>\n",
       "      <th>geo_7_inv</th>\n",
       "      <th>geo_7_sqrt</th>\n",
       "      <th>geo_7_sin</th>\n",
       "      <th>geo_8_log</th>\n",
       "      <th>geo_8_inv</th>\n",
       "      <th>geo_8_sqrt</th>\n",
       "      <th>geo_8_sin</th>\n",
       "    </tr>\n",
       "  </thead>\n",
       "  <tbody>\n",
       "    <tr>\n",
       "      <th>90431</th>\n",
       "      <td>0</td>\n",
       "      <td>0</td>\n",
       "      <td>0</td>\n",
       "      <td>0</td>\n",
       "      <td>0</td>\n",
       "      <td>1</td>\n",
       "      <td>0</td>\n",
       "      <td>0</td>\n",
       "      <td>0</td>\n",
       "      <td>1</td>\n",
       "      <td>...</td>\n",
       "      <td>0.023528</td>\n",
       "      <td>0.551207</td>\n",
       "      <td>0.365994</td>\n",
       "      <td>0.012765</td>\n",
       "      <td>0.020360</td>\n",
       "      <td>0.548722</td>\n",
       "      <td>0.450791</td>\n",
       "      <td>0.002203</td>\n",
       "      <td>0.022971</td>\n",
       "      <td>0.551566</td>\n",
       "    </tr>\n",
       "    <tr>\n",
       "      <th>33259</th>\n",
       "      <td>0</td>\n",
       "      <td>0</td>\n",
       "      <td>0</td>\n",
       "      <td>0</td>\n",
       "      <td>1</td>\n",
       "      <td>0</td>\n",
       "      <td>0</td>\n",
       "      <td>0</td>\n",
       "      <td>0</td>\n",
       "      <td>1</td>\n",
       "      <td>...</td>\n",
       "      <td>0.029952</td>\n",
       "      <td>0.560954</td>\n",
       "      <td>0.390743</td>\n",
       "      <td>0.009503</td>\n",
       "      <td>0.024006</td>\n",
       "      <td>0.553437</td>\n",
       "      <td>0.414900</td>\n",
       "      <td>0.003586</td>\n",
       "      <td>0.017762</td>\n",
       "      <td>0.545674</td>\n",
       "    </tr>\n",
       "    <tr>\n",
       "      <th>43236</th>\n",
       "      <td>0</td>\n",
       "      <td>0</td>\n",
       "      <td>0</td>\n",
       "      <td>0</td>\n",
       "      <td>0</td>\n",
       "      <td>0</td>\n",
       "      <td>0</td>\n",
       "      <td>0</td>\n",
       "      <td>1</td>\n",
       "      <td>0</td>\n",
       "      <td>...</td>\n",
       "      <td>0.023218</td>\n",
       "      <td>0.550791</td>\n",
       "      <td>0.382238</td>\n",
       "      <td>0.010517</td>\n",
       "      <td>0.022692</td>\n",
       "      <td>0.551658</td>\n",
       "      <td>0.473379</td>\n",
       "      <td>0.001621</td>\n",
       "      <td>0.026964</td>\n",
       "      <td>0.557045</td>\n",
       "    </tr>\n",
       "    <tr>\n",
       "      <th>202541</th>\n",
       "      <td>1</td>\n",
       "      <td>0</td>\n",
       "      <td>0</td>\n",
       "      <td>1</td>\n",
       "      <td>0</td>\n",
       "      <td>0</td>\n",
       "      <td>0</td>\n",
       "      <td>0</td>\n",
       "      <td>0</td>\n",
       "      <td>0</td>\n",
       "      <td>...</td>\n",
       "      <td>0.022806</td>\n",
       "      <td>0.550245</td>\n",
       "      <td>0.320977</td>\n",
       "      <td>0.021829</td>\n",
       "      <td>0.014960</td>\n",
       "      <td>0.543013</td>\n",
       "      <td>0.346198</td>\n",
       "      <td>0.009111</td>\n",
       "      <td>0.010722</td>\n",
       "      <td>0.539981</td>\n",
       "    </tr>\n",
       "    <tr>\n",
       "      <th>35703</th>\n",
       "      <td>0</td>\n",
       "      <td>0</td>\n",
       "      <td>0</td>\n",
       "      <td>0</td>\n",
       "      <td>0</td>\n",
       "      <td>0</td>\n",
       "      <td>0</td>\n",
       "      <td>0</td>\n",
       "      <td>0</td>\n",
       "      <td>0</td>\n",
       "      <td>...</td>\n",
       "      <td>0.060850</td>\n",
       "      <td>0.637217</td>\n",
       "      <td>0.528833</td>\n",
       "      <td>0.001828</td>\n",
       "      <td>0.057960</td>\n",
       "      <td>0.630200</td>\n",
       "      <td>0.578949</td>\n",
       "      <td>0.000386</td>\n",
       "      <td>0.056376</td>\n",
       "      <td>0.622917</td>\n",
       "    </tr>\n",
       "  </tbody>\n",
       "</table>\n",
       "<p>5 rows × 56 columns</p>\n",
       "</div>"
      ],
      "text/plain": [
       "        session_length_90  session_length_120  session_length_150  \\\n",
       "90431                   0                   0                   0   \n",
       "33259                   0                   0                   0   \n",
       "43236                   0                   0                   0   \n",
       "202541                  1                   0                   0   \n",
       "35703                   0                   0                   0   \n",
       "\n",
       "        session_local_day_Monday  session_local_day_Saturday  \\\n",
       "90431                          0                           0   \n",
       "33259                          0                           1   \n",
       "43236                          0                           0   \n",
       "202541                         1                           0   \n",
       "35703                          0                           0   \n",
       "\n",
       "        session_local_day_Sunday  session_local_day_Thursday  \\\n",
       "90431                          1                           0   \n",
       "33259                          0                           0   \n",
       "43236                          0                           0   \n",
       "202541                         0                           0   \n",
       "35703                          0                           0   \n",
       "\n",
       "        session_local_day_Tuesday  session_local_day_Wednesday  \\\n",
       "90431                           0                            0   \n",
       "33259                           0                            0   \n",
       "43236                           0                            1   \n",
       "202541                          0                            0   \n",
       "35703                           0                            0   \n",
       "\n",
       "        gender_request_either    ...      geo_6_sqrt  geo_6_sin  geo_7_log  \\\n",
       "90431                       1    ...        0.023528   0.551207   0.365994   \n",
       "33259                       1    ...        0.029952   0.560954   0.390743   \n",
       "43236                       0    ...        0.023218   0.550791   0.382238   \n",
       "202541                      0    ...        0.022806   0.550245   0.320977   \n",
       "35703                       0    ...        0.060850   0.637217   0.528833   \n",
       "\n",
       "        geo_7_inv  geo_7_sqrt  geo_7_sin  geo_8_log  geo_8_inv  geo_8_sqrt  \\\n",
       "90431    0.012765    0.020360   0.548722   0.450791   0.002203    0.022971   \n",
       "33259    0.009503    0.024006   0.553437   0.414900   0.003586    0.017762   \n",
       "43236    0.010517    0.022692   0.551658   0.473379   0.001621    0.026964   \n",
       "202541   0.021829    0.014960   0.543013   0.346198   0.009111    0.010722   \n",
       "35703    0.001828    0.057960   0.630200   0.578949   0.000386    0.056376   \n",
       "\n",
       "        geo_8_sin  \n",
       "90431    0.551566  \n",
       "33259    0.545674  \n",
       "43236    0.557045  \n",
       "202541   0.539981  \n",
       "35703    0.622917  \n",
       "\n",
       "[5 rows x 56 columns]"
      ]
     },
     "execution_count": 348,
     "metadata": {},
     "output_type": "execute_result"
    }
   ],
   "source": [
    "X_train_scaled.head()"
   ]
  },
  {
   "cell_type": "code",
   "execution_count": 350,
   "metadata": {
    "collapsed": false
   },
   "outputs": [
    {
     "data": {
      "text/plain": [
       "Index(['is_couple', 'special_request', 'session_length_90',\n",
       "       'session_length_120', 'session_length_150', 'session_local_day_Monday',\n",
       "       'session_local_day_Saturday', 'session_local_day_Sunday',\n",
       "       'session_local_day_Thursday', 'session_local_day_Tuesday',\n",
       "       'session_local_day_Wednesday', 'gender_request_either',\n",
       "       'gender_request_female', 'gender_request_male',\n",
       "       'session_period_Late Session', 'session_period_Prime Session',\n",
       "       'interval_log', 'interval_inv', 'interval_sqrt', 'interval_sin',\n",
       "       'geo_0_log', 'geo_0_inv', 'geo_0_sqrt', 'geo_0_sin', 'geo_1_log',\n",
       "       'geo_1_inv', 'geo_1_sqrt', 'geo_1_sin', 'geo_2_log', 'geo_2_inv',\n",
       "       'geo_2_sqrt', 'geo_2_sin', 'geo_3_log', 'geo_3_inv', 'geo_3_sqrt',\n",
       "       'geo_3_sin', 'geo_4_log', 'geo_4_inv', 'geo_4_sqrt', 'geo_4_sin',\n",
       "       'geo_5_log', 'geo_5_inv', 'geo_5_sqrt', 'geo_5_sin', 'geo_6_log',\n",
       "       'geo_6_inv', 'geo_6_sqrt', 'geo_6_sin', 'geo_7_log', 'geo_7_inv',\n",
       "       'geo_7_sqrt', 'geo_7_sin', 'geo_8_log', 'geo_8_inv', 'geo_8_sqrt',\n",
       "       'geo_8_sin'],\n",
       "      dtype='object')"
      ]
     },
     "execution_count": 350,
     "metadata": {},
     "output_type": "execute_result"
    }
   ],
   "source": [
    "X_train.columns"
   ]
  },
  {
   "cell_type": "code",
   "execution_count": 109,
   "metadata": {
    "collapsed": false
   },
   "outputs": [],
   "source": [
    "data_fill['interval']=data_fill.interval_created_to_session_time.apply(truncate_interval)\n",
    "data_fill['session_period']=data_fill.session_local_hour.apply(cat_session_hour)\n",
    "\n",
    "##cat list\n",
    "cat_list=['session_length','session_local_day','gender_request','session_period']\n",
    "data_fill_dummies=dummie_transformation(df=data_fill,cat_list=cat_list)\n",
    "## drop list\n",
    "drop_list=['interval_created_to_session_time','session_local_hour']\n",
    "data_fill_dummies.drop(drop_list,axis=1,inplace=True)\n"
   ]
  },
  {
   "cell_type": "code",
   "execution_count": 110,
   "metadata": {
    "collapsed": false
   },
   "outputs": [
    {
     "data": {
      "text/html": [
       "<div>\n",
       "<table border=\"1\" class=\"dataframe\">\n",
       "  <thead>\n",
       "    <tr style=\"text-align: right;\">\n",
       "      <th></th>\n",
       "      <th>unfilled</th>\n",
       "      <th>latitude</th>\n",
       "      <th>longitude</th>\n",
       "      <th>is_couple</th>\n",
       "      <th>city_id</th>\n",
       "      <th>city</th>\n",
       "      <th>special_request</th>\n",
       "      <th>session_local_hour</th>\n",
       "      <th>interval_created_to_session_time</th>\n",
       "      <th>interval</th>\n",
       "      <th>...</th>\n",
       "      <th>session_local_day_Saturday</th>\n",
       "      <th>session_local_day_Sunday</th>\n",
       "      <th>session_local_day_Thursday</th>\n",
       "      <th>session_local_day_Tuesday</th>\n",
       "      <th>session_local_day_Wednesday</th>\n",
       "      <th>gender_request_either</th>\n",
       "      <th>gender_request_female</th>\n",
       "      <th>gender_request_male</th>\n",
       "      <th>session_period_Late Session</th>\n",
       "      <th>session_period_Prime Session</th>\n",
       "    </tr>\n",
       "  </thead>\n",
       "  <tbody>\n",
       "    <tr>\n",
       "      <th>0</th>\n",
       "      <td>0</td>\n",
       "      <td>33.652760</td>\n",
       "      <td>-117.751945</td>\n",
       "      <td>0</td>\n",
       "      <td>5</td>\n",
       "      <td>Orange County</td>\n",
       "      <td>0</td>\n",
       "      <td>16</td>\n",
       "      <td>3170</td>\n",
       "      <td>144</td>\n",
       "      <td>...</td>\n",
       "      <td>0</td>\n",
       "      <td>0</td>\n",
       "      <td>0</td>\n",
       "      <td>0</td>\n",
       "      <td>0</td>\n",
       "      <td>1</td>\n",
       "      <td>0</td>\n",
       "      <td>0</td>\n",
       "      <td>0</td>\n",
       "      <td>1</td>\n",
       "    </tr>\n",
       "    <tr>\n",
       "      <th>1</th>\n",
       "      <td>0</td>\n",
       "      <td>34.256142</td>\n",
       "      <td>-118.474693</td>\n",
       "      <td>1</td>\n",
       "      <td>2</td>\n",
       "      <td>Los Angeles</td>\n",
       "      <td>0</td>\n",
       "      <td>10</td>\n",
       "      <td>1699</td>\n",
       "      <td>144</td>\n",
       "      <td>...</td>\n",
       "      <td>0</td>\n",
       "      <td>0</td>\n",
       "      <td>0</td>\n",
       "      <td>0</td>\n",
       "      <td>0</td>\n",
       "      <td>0</td>\n",
       "      <td>1</td>\n",
       "      <td>0</td>\n",
       "      <td>0</td>\n",
       "      <td>0</td>\n",
       "    </tr>\n",
       "    <tr>\n",
       "      <th>2</th>\n",
       "      <td>0</td>\n",
       "      <td>30.268915</td>\n",
       "      <td>-97.740379</td>\n",
       "      <td>1</td>\n",
       "      <td>12</td>\n",
       "      <td>Austin</td>\n",
       "      <td>0</td>\n",
       "      <td>17</td>\n",
       "      <td>3760</td>\n",
       "      <td>144</td>\n",
       "      <td>...</td>\n",
       "      <td>0</td>\n",
       "      <td>0</td>\n",
       "      <td>1</td>\n",
       "      <td>0</td>\n",
       "      <td>0</td>\n",
       "      <td>0</td>\n",
       "      <td>0</td>\n",
       "      <td>0</td>\n",
       "      <td>0</td>\n",
       "      <td>1</td>\n",
       "    </tr>\n",
       "    <tr>\n",
       "      <th>3</th>\n",
       "      <td>0</td>\n",
       "      <td>39.039063</td>\n",
       "      <td>-77.361710</td>\n",
       "      <td>0</td>\n",
       "      <td>14</td>\n",
       "      <td>Washington DC</td>\n",
       "      <td>0</td>\n",
       "      <td>9</td>\n",
       "      <td>2516</td>\n",
       "      <td>144</td>\n",
       "      <td>...</td>\n",
       "      <td>0</td>\n",
       "      <td>0</td>\n",
       "      <td>0</td>\n",
       "      <td>1</td>\n",
       "      <td>0</td>\n",
       "      <td>0</td>\n",
       "      <td>1</td>\n",
       "      <td>0</td>\n",
       "      <td>0</td>\n",
       "      <td>0</td>\n",
       "    </tr>\n",
       "    <tr>\n",
       "      <th>4</th>\n",
       "      <td>0</td>\n",
       "      <td>38.897015</td>\n",
       "      <td>-77.022339</td>\n",
       "      <td>1</td>\n",
       "      <td>14</td>\n",
       "      <td>Washington DC</td>\n",
       "      <td>0</td>\n",
       "      <td>12</td>\n",
       "      <td>3445</td>\n",
       "      <td>144</td>\n",
       "      <td>...</td>\n",
       "      <td>0</td>\n",
       "      <td>0</td>\n",
       "      <td>0</td>\n",
       "      <td>0</td>\n",
       "      <td>0</td>\n",
       "      <td>0</td>\n",
       "      <td>1</td>\n",
       "      <td>0</td>\n",
       "      <td>0</td>\n",
       "      <td>0</td>\n",
       "    </tr>\n",
       "  </tbody>\n",
       "</table>\n",
       "<p>5 rows × 24 columns</p>\n",
       "</div>"
      ],
      "text/plain": [
       "   unfilled   latitude   longitude  is_couple  city_id           city  \\\n",
       "0         0  33.652760 -117.751945          0        5  Orange County   \n",
       "1         0  34.256142 -118.474693          1        2    Los Angeles   \n",
       "2         0  30.268915  -97.740379          1       12         Austin   \n",
       "3         0  39.039063  -77.361710          0       14  Washington DC   \n",
       "4         0  38.897015  -77.022339          1       14  Washington DC   \n",
       "\n",
       "   special_request  session_local_hour  interval_created_to_session_time  \\\n",
       "0                0                  16                              3170   \n",
       "1                0                  10                              1699   \n",
       "2                0                  17                              3760   \n",
       "3                0                   9                              2516   \n",
       "4                0                  12                              3445   \n",
       "\n",
       "   interval              ...               session_local_day_Saturday  \\\n",
       "0       144              ...                                        0   \n",
       "1       144              ...                                        0   \n",
       "2       144              ...                                        0   \n",
       "3       144              ...                                        0   \n",
       "4       144              ...                                        0   \n",
       "\n",
       "   session_local_day_Sunday  session_local_day_Thursday  \\\n",
       "0                         0                           0   \n",
       "1                         0                           0   \n",
       "2                         0                           1   \n",
       "3                         0                           0   \n",
       "4                         0                           0   \n",
       "\n",
       "   session_local_day_Tuesday  session_local_day_Wednesday  \\\n",
       "0                          0                            0   \n",
       "1                          0                            0   \n",
       "2                          0                            0   \n",
       "3                          1                            0   \n",
       "4                          0                            0   \n",
       "\n",
       "   gender_request_either  gender_request_female  gender_request_male  \\\n",
       "0                      1                      0                    0   \n",
       "1                      0                      1                    0   \n",
       "2                      0                      0                    0   \n",
       "3                      0                      1                    0   \n",
       "4                      0                      1                    0   \n",
       "\n",
       "   session_period_Late Session  session_period_Prime Session  \n",
       "0                            0                             1  \n",
       "1                            0                             0  \n",
       "2                            0                             1  \n",
       "3                            0                             0  \n",
       "4                            0                             0  \n",
       "\n",
       "[5 rows x 24 columns]"
      ]
     },
     "execution_count": 110,
     "metadata": {},
     "output_type": "execute_result"
    }
   ],
   "source": [
    "data_fill_dummies.head()"
   ]
  },
  {
   "cell_type": "code",
   "execution_count": 522,
   "metadata": {
    "collapsed": false
   },
   "outputs": [
    {
     "data": {
      "text/plain": [
       "'Phoenix_Scottsdale'"
      ]
     },
     "execution_count": 522,
     "metadata": {},
     "output_type": "execute_result"
    }
   ],
   "source": [
    "re.sub(r'/','_','Phoenix/Scottsdale')"
   ]
  },
  {
   "cell_type": "code",
   "execution_count": 113,
   "metadata": {
    "collapsed": false
   },
   "outputs": [
    {
     "data": {
      "text/plain": [
       "Index(['unfilled', 'latitude', 'longitude', 'is_couple', 'city_id', 'city',\n",
       "       'special_request', 'interval', 'session_length_90',\n",
       "       'session_length_120', 'session_length_150', 'session_local_day_Monday',\n",
       "       'session_local_day_Saturday', 'session_local_day_Sunday',\n",
       "       'session_local_day_Thursday', 'session_local_day_Tuesday',\n",
       "       'session_local_day_Wednesday', 'gender_request_either',\n",
       "       'gender_request_female', 'gender_request_male',\n",
       "       'session_period_Late Session', 'session_period_Prime Session'],\n",
       "      dtype='object')"
      ]
     },
     "execution_count": 113,
     "metadata": {},
     "output_type": "execute_result"
    }
   ],
   "source": [
    " data_fill_dummies.columns"
   ]
  },
  {
   "cell_type": "code",
   "execution_count": 606,
   "metadata": {
    "collapsed": true
   },
   "outputs": [],
   "source": [
    "#categorize the feature\n",
    "\n",
    "def cat_preprocessing(df):\n",
    "    cat_list=['session_length','session_local_day','gender_request','session_period']\n",
    "    drop_list=['interval_created_to_session_time','session_local_hour']\n",
    "    df_trans=df.dropna(axis=0,how='any')\n",
    "    df_trans['interval']=df_trans.interval_created_to_session_time.apply(truncate_interval)\n",
    "    df_trans['session_period']=df_trans.session_local_hour.apply(cat_session_hour)\n",
    "    df_trans_dummies=dummie_transformation(df=df_trans,cat_list=cat_list)\n",
    "    df_trans_dummies.drop(drop_list,axis=1,inplace=True)\n",
    "    \n",
    "    return df_trans_dummies\n",
    "    \n",
    "    "
   ]
  },
  {
   "cell_type": "code",
   "execution_count": 607,
   "metadata": {
    "collapsed": true
   },
   "outputs": [],
   "source": [
    "a=cat_preprocessing(data_fill)"
   ]
  },
  {
   "cell_type": "code",
   "execution_count": 608,
   "metadata": {
    "collapsed": false
   },
   "outputs": [
    {
     "data": {
      "text/plain": [
       "Index(['unfilled', 'latitude', 'longitude', 'is_couple', 'city_id', 'city',\n",
       "       'special_request', 'interval', 'session_length_90',\n",
       "       'session_length_120', 'session_length_150', 'session_local_day_Monday',\n",
       "       'session_local_day_Saturday', 'session_local_day_Sunday',\n",
       "       'session_local_day_Thursday', 'session_local_day_Tuesday',\n",
       "       'session_local_day_Wednesday', 'gender_request_either',\n",
       "       'gender_request_female', 'gender_request_male',\n",
       "       'session_period_Late Session', 'session_period_Prime Session'],\n",
       "      dtype='object')"
      ]
     },
     "execution_count": 608,
     "metadata": {},
     "output_type": "execute_result"
    }
   ],
   "source": [
    "a.columns"
   ]
  },
  {
   "cell_type": "code",
   "execution_count": 604,
   "metadata": {
    "collapsed": false
   },
   "outputs": [
    {
     "data": {
      "text/plain": [
       "Index(['unfilled', 'latitude', 'longitude', 'is_couple', 'city_id', 'city',\n",
       "       'special_request', 'interval', 'session_length_90',\n",
       "       'session_length_120', 'session_length_150', 'session_local_day_Monday',\n",
       "       'session_local_day_Saturday', 'session_local_day_Sunday',\n",
       "       'session_local_day_Thursday', 'session_local_day_Tuesday',\n",
       "       'session_local_day_Wednesday', 'gender_request_either',\n",
       "       'gender_request_female', 'gender_request_male',\n",
       "       'session_period_Late Session', 'session_period_Prime Session'],\n",
       "      dtype='object')"
      ]
     },
     "execution_count": 604,
     "metadata": {},
     "output_type": "execute_result"
    }
   ],
   "source": [
    "data_fill_dummies.columns"
   ]
  },
  {
   "cell_type": "code",
   "execution_count": null,
   "metadata": {
    "collapsed": true
   },
   "outputs": [],
   "source": [
    "import numpy as np"
   ]
  },
  {
   "cell_type": "code",
   "execution_count": null,
   "metadata": {
    "collapsed": true
   },
   "outputs": [],
   "source": []
  }
 ],
 "metadata": {
  "kernelspec": {
   "display_name": "Python 3",
   "language": "python",
   "name": "python3"
  },
  "language_info": {
   "codemirror_mode": {
    "name": "ipython",
    "version": 3
   },
   "file_extension": ".py",
   "mimetype": "text/x-python",
   "name": "python",
   "nbconvert_exporter": "python",
   "pygments_lexer": "ipython3",
   "version": "3.5.2"
  }
 },
 "nbformat": 4,
 "nbformat_minor": 1
}
