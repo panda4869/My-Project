{
 "cells": [
  {
   "cell_type": "code",
   "execution_count": 67,
   "metadata": {
    "collapsed": false
   },
   "outputs": [],
   "source": [
    "from bs4 import BeautifulSoup\n",
    "from urllib import request\n",
    "import re\n",
    "import pandas as pd\n",
    "import os\n",
    "\n",
    "def crawlZeelprice():      \n",
    "    url='https://www.zeel.com/zeel-massage-locations'\n",
    "    page=request.urlopen(url).read().decode()\n",
    "    soup=BeautifulSoup(page,'html.parser')\n",
    "    class_name='z--column z-text-center-sm z-text-center-md z-text-center-lg'\n",
    "    locations=soup.find('div',{'class':class_name}).find_all('a',href=True,text=True)\n",
    "    market_price=dict()\n",
    "    for loc in locations:\n",
    "        try:\n",
    "            if not loc.text in market_price:\n",
    "                url_temp='https://www.zeel.com'+loc['href']\n",
    "                #print(url_temp)\n",
    "                page_temp=request.urlopen(url_temp).read().decode()\n",
    "                soup_temp=BeautifulSoup(page_temp,'html.parser')\n",
    "                string_temp=soup_temp.find('div',{'class':'col-xs-10'}).find('p').text\n",
    "                market_price[loc.text]=int(re.findall(r'\\$(\\d*)',string_temp)[0])\n",
    "\n",
    "        except:\n",
    "            print('Error Url: ',url_temp)\n",
    "            print('Error Market: ',loc.text)\n",
    "\n",
    "\n",
    "    price_df=pd.DataFrame.from_dict(market_price,orient='index')\n",
    "    price_df.index.name='City'\n",
    "    price_df.columns=['Price']\n",
    "    if os.path.exists('zeel_price.csv'):\n",
    "        os.remove('zeel_price.csv')\n",
    "    price_df.to_csv('zeel_price.csv')\n",
    "    print('Export zeel_price.csv to {}'.format(os.getcwd()))"
   ]
  },
  {
   "cell_type": "code",
   "execution_count": 66,
   "metadata": {
    "collapsed": false
   },
   "outputs": [
    {
     "name": "stdout",
     "output_type": "stream",
     "text": [
      "Error Url https://www.zeel.com/fort-myers-fl-massage\n",
      "Error Market Fort Myers\n",
      "Error Url https://www.zeel.com/hartford-ct-massage\n",
      "Error Market Hartford\n",
      "Error Url https://www.zeel.com/hilton-head-sc-massage\n",
      "Error Market Hilton Head\n",
      "Error Url https://www.zeel.com/naples-fl-massage\n",
      "Error Market Naples\n",
      "Error Url https://www.zeel.com/nashville-massage\n",
      "Error Market Nashville\n",
      "Error Url https://www.zeel.com/provo-ut-massage\n",
      "Error Market Provo\n",
      "Error Url https://www.zeel.com/raleigh-nc-massage\n",
      "Error Market Raleigh\n",
      "Error Url https://www.zeel.com/savannah-ga-massage\n",
      "Error Market Savannah\n",
      "Error Url https://www.zeel.com/tucson-massage\n",
      "Error Market Tucson\n",
      "Export zeel_price.csv to /Users/panminxiang/Documents/work/python_projects/zeel_price\n"
     ]
    }
   ],
   "source": [
    "crawlZeelprice()"
   ]
  },
  {
   "cell_type": "code",
   "execution_count": null,
   "metadata": {
    "collapsed": true
   },
   "outputs": [],
   "source": []
  }
 ],
 "metadata": {
  "kernelspec": {
   "display_name": "Python 3",
   "language": "python",
   "name": "python3"
  },
  "language_info": {
   "codemirror_mode": {
    "name": "ipython",
    "version": 3
   },
   "file_extension": ".py",
   "mimetype": "text/x-python",
   "name": "python",
   "nbconvert_exporter": "python",
   "pygments_lexer": "ipython3",
   "version": "3.5.2"
  }
 },
 "nbformat": 4,
 "nbformat_minor": 1
}
